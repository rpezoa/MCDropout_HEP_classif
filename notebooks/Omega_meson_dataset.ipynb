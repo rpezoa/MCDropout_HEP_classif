{
 "cells": [
  {
   "cell_type": "markdown",
   "id": "77878cd3",
   "metadata": {},
   "source": [
    "# Uncertainty estimation in deep learning based classifiers of High Energy Physics events using Monte Carlo Dropout\n",
    "***\n",
    "Abstract sent to ACAT 2022\n",
    "\n",
    "R Pezoa (Inf-UV, CCTVal-UTFSM), S Bórquez (Inf-UTFSM) , W Brooks (Fis-UTFSM, CCTVal-UTFSM), L Salinas (Inf-UTFSM, CCTVal-UTFSM), C Torres (Inf-UTFSM, CCTVal-UTFSM)\n",
    "\n",
    "* Preliminary experiments"
   ]
  },
  {
   "cell_type": "markdown",
   "id": "05b35e4a",
   "metadata": {},
   "source": [
    "# Hadronization of the  $\\omega \\rightarrow \\pi^+ \\pi^- \\gamma \\gamma$"
   ]
  },
  {
   "cell_type": "markdown",
   "id": "b84ab5c6",
   "metadata": {},
   "source": [
    "* Currently, we have 12 root files: $\\texttt{omegaD_00.root}, \\ldots, \\texttt{omegaD_11.root}$. \n",
    "* Each file was read using uproot, and then they were converted into  pandas dataframe format:"
   ]
  },
  {
   "cell_type": "code",
   "execution_count": null,
   "id": "0d5c59c6",
   "metadata": {},
   "outputs": [],
   "source": [
    "f=uproot.open(\"omegaD_00.root\")\n",
    "tree = f['mix']"
   ]
  },
  {
   "cell_type": "markdown",
   "id": "fed8d784",
   "metadata": {},
   "source": [
    "* We get all the features:"
   ]
  },
  {
   "cell_type": "markdown",
   "id": "061a4368",
   "metadata": {},
   "source": [
    "features = tree.keys()"
   ]
  },
  {
   "cell_type": "markdown",
   "id": "ad6e38f3",
   "metadata": {},
   "source": [
    "Features:\n",
    "   \n",
    "Q2 W Nu Xb Yb Pex Pey Pez Pe Xec Yec Zec TargType PhiLabEl ThetaLabEl SectorEl Entry Event E Z Px Py Pz P PhiPQ ThetaPQ Pt2 Pl2 PhiLab ThetaLab deltaZ Pid pi0Px pi0Py pi0Pz pi0P pi0E pi0M pi0Theta wPx wPy wPz wP wE wM wZ wD wPhiLab wThetaLab wPhiPQ wThetaPQ wPt2 wPl2 mc_Q2 mc_W mc_Nu mc_Xb mc_Yb mc_Pex mc_Pey mc_Pez mc_Pe mc_TargType mc_PhiLabEl mc_ThetaLabEl mc_SectorEl mc_E mc_Z mc_Px mc_Py mc_Pz mc_P mc_PhiPQ mc_ThetaPQ mc_Pt2 mc_Pl2 mc_PhiLab mc_ThetaLab mc_deltaZ mc_Pid mc_ParentID mc_Entry mc_pi0Px mc_pi0Py mc_pi0Pz mc_pi0P mc_pi0E mc_pi0M mc_pi0Theta mc_wE mc_wP mc_wPx mc_wPy mc_wPz mc_wM mc_wZ mc_wD mc_wPhiPQ mc_wThetaPQ mc_wPt2 mc_wPl2 mc_wPhiLab mc_wThetaLab mc_Omega2PPGG \n",
    "\n",
    "104 features"
   ]
  },
  {
   "cell_type": "markdown",
   "id": "ca4302e1",
   "metadata": {},
   "source": [
    "* We select only the following features:"
   ]
  },
  {
   "cell_type": "code",
   "execution_count": null,
   "id": "e3d1186c",
   "metadata": {},
   "outputs": [],
   "source": [
    "df_prev = tree.arrays([\"Event\", \"mc_Entry\", 'mc_E', 'mc_Px', 'mc_Py', 'mc_Pz', 'mc_wD', 'mc_Omega2PPGG'], \n",
    "                      library=\"pd\")"
   ]
  },
  {
   "cell_type": "markdown",
   "id": "74336ee8",
   "metadata": {},
   "source": [
    "* And we remove wrong events "
   ]
  },
  {
   "cell_type": "code",
   "execution_count": null,
   "id": "929bc697",
   "metadata": {},
   "outputs": [],
   "source": [
    "mask_9999 = df_prev[\"mc_E[0]\"] == -9999"
   ]
  },
  {
   "cell_type": "markdown",
   "id": "cb005a04",
   "metadata": {},
   "source": [
    "* We analyze the class distribution:"
   ]
  },
  {
   "attachments": {
    "omega-meso-dist.png": {
     "image/png": "[encoded data removed]"
    }
   },
   "cell_type": "markdown",
   "id": "cfb83f00",
   "metadata": {},
   "source": [
    "![omega-meso-dist.png](attachment:omega-meso-dist.png)\n",
    "\n",
    "where we observe the high class imbalanced, where the signal (S) is the majority class."
   ]
  },
  {
   "cell_type": "markdown",
   "id": "8f7637d6",
   "metadata": {},
   "source": [
    "* We trained a Bayesian deep neural network using Monte Carlo Dropout, to get a predictive distribution in the model prediction of each event, and hence, to measure epistemic uncertainty measures:\n",
    " * predictive entropy\n",
    " * mutual information"
   ]
  },
  {
   "cell_type": "markdown",
   "id": "f5409a9c",
   "metadata": {},
   "source": [
    "# References"
   ]
  },
  {
   "cell_type": "markdown",
   "id": "f71704cf",
   "metadata": {},
   "source": [
    "[1]  Andrés Bórquez. The $\\omega$ hadronization studies in the nuclear medium with the CLAS spectrometer.\n",
    "Master’s thesis, UTFSM, Valparaíso, Chile, 2021.\n",
    "\n"
   ]
  }
 ],
 "metadata": {
  "kernelspec": {
   "display_name": "Python 3 (ipykernel)",
   "language": "python",
   "name": "python3"
  },
  "language_info": {
   "codemirror_mode": {
    "name": "ipython",
    "version": 3
   },
   "file_extension": ".py",
   "mimetype": "text/x-python",
   "name": "python",
   "nbconvert_exporter": "python",
   "pygments_lexer": "ipython3",
   "version": "3.9.12"
  }
 },
 "nbformat": 4,
 "nbformat_minor": 5
}
