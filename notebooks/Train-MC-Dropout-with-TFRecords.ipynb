{
 "cells": [
  {
   "cell_type": "markdown",
   "id": "9f9ae58b",
   "metadata": {},
   "source": [
    "# Uncertainty estimation in deep learning based-classifiers of High Energy Physics events using Monte Carlo Dropout.\n",
    "-----\n",
    "## Higgs Dataset\n",
    "\n",
    "R. Pezoa (UV, CCTVal-USM), S. Bórquez(USM), W. Brooks (USM), L. Salinas (USM), C. Torres (USM)"
   ]
  },
  {
   "cell_type": "markdown",
   "id": "a80cdd23",
   "metadata": {},
   "source": [
    "## Libraries"
   ]
  },
  {
   "cell_type": "code",
   "execution_count": 1,
   "id": "e4e48651",
   "metadata": {},
   "outputs": [
    {
     "name": "stdout",
     "output_type": "stream",
     "text": [
      "Num GPUs Available:  1\n"
     ]
    },
    {
     "name": "stderr",
     "output_type": "stream",
     "text": [
      "2022-09-21 16:47:44.330159: I tensorflow/stream_executor/cuda/cuda_gpu_executor.cc:975] successful NUMA node read from SysFS had negative value (-1), but there must be at least one NUMA node, so returning NUMA node zero\n",
      "2022-09-21 16:47:44.377514: I tensorflow/stream_executor/cuda/cuda_gpu_executor.cc:975] successful NUMA node read from SysFS had negative value (-1), but there must be at least one NUMA node, so returning NUMA node zero\n",
      "2022-09-21 16:47:44.378016: I tensorflow/stream_executor/cuda/cuda_gpu_executor.cc:975] successful NUMA node read from SysFS had negative value (-1), but there must be at least one NUMA node, so returning NUMA node zero\n"
     ]
    }
   ],
   "source": [
    "import time\n",
    "\n",
    "import os\n",
    "from math import ceil\n",
    "\n",
    "import tqdm\n",
    "import tensorflow as tf\n",
    "import tensorflow_addons as tfa\n",
    "import numpy as np\n",
    "import pandas as pd\n",
    "import matplotlib.pyplot as plt\n",
    "from sklearn.preprocessing import StandardScaler\n",
    "from sklearn.model_selection import train_test_split\n",
    "\n",
    "from mc_dropout import *\n",
    "from datasets import *\n",
    "\n",
    "print(\"Num GPUs Available: \", len(tf.config.list_physical_devices('GPU')))"
   ]
  },
  {
   "cell_type": "code",
   "execution_count": 2,
   "id": "e7e04b94-8e0a-43b5-80d9-4e2053936574",
   "metadata": {},
   "outputs": [],
   "source": [
    "gpus = tf.config.experimental.list_physical_devices('GPU')\n",
    "if gpus:\n",
    "    try:\n",
    "        tf.config.experimental.set_virtual_device_configuration(gpus[0],[tf.config.experimental.VirtualDeviceConfiguration(memory_limit=7120)])\n",
    "    except RuntimeError as e:\n",
    "        print(e)"
   ]
  },
  {
   "cell_type": "markdown",
   "id": "1e6b018d",
   "metadata": {},
   "source": [
    "## Data\n",
    "-----\n",
    "Hggs dataset\n",
    "\n",
    "- Data is obtained from: https://www.openml.org/d/23512\n",
    "- Each event is represented by a set of 28 features, including 21 low-level features corresponding to physics properties measured by the detector, and 7 high-level features derived from the previous ones."
   ]
  },
  {
   "cell_type": "code",
   "execution_count": 3,
   "id": "6274b17c-68e4-4f14-98bc-6e4b762d0de1",
   "metadata": {},
   "outputs": [],
   "source": [
    "batch_size = 32"
   ]
  },
  {
   "cell_type": "code",
   "execution_count": 4,
   "id": "d7032884-a39e-4b81-87a0-b779130ef389",
   "metadata": {},
   "outputs": [],
   "source": [
    "train_filenames = sorted(tf.io.gfile.glob(\"/mnt/storage-large/dataset/higgs/higgs_tfrecords/train/*.tfrecord\"))\n",
    "test_filenames = tf.io.gfile.glob(\"/mnt/storage-large/dataset/higgs/higgs_tfrecords/test/*.tfrecord\")"
   ]
  },
  {
   "cell_type": "code",
   "execution_count": 5,
   "id": "2742b0c5-686a-4d68-977a-bb65bc8b9b7e",
   "metadata": {},
   "outputs": [
    {
     "name": "stderr",
     "output_type": "stream",
     "text": [
      "2022-09-21 16:47:44.644992: I tensorflow/core/platform/cpu_feature_guard.cc:193] This TensorFlow binary is optimized with oneAPI Deep Neural Network Library (oneDNN) to use the following CPU instructions in performance-critical operations:  AVX2 FMA\n",
      "To enable them in other operations, rebuild TensorFlow with the appropriate compiler flags.\n",
      "2022-09-21 16:47:44.645840: I tensorflow/stream_executor/cuda/cuda_gpu_executor.cc:975] successful NUMA node read from SysFS had negative value (-1), but there must be at least one NUMA node, so returning NUMA node zero\n",
      "2022-09-21 16:47:44.646474: I tensorflow/stream_executor/cuda/cuda_gpu_executor.cc:975] successful NUMA node read from SysFS had negative value (-1), but there must be at least one NUMA node, so returning NUMA node zero\n",
      "2022-09-21 16:47:44.648608: I tensorflow/stream_executor/cuda/cuda_gpu_executor.cc:975] successful NUMA node read from SysFS had negative value (-1), but there must be at least one NUMA node, so returning NUMA node zero\n",
      "2022-09-21 16:47:45.822217: I tensorflow/stream_executor/cuda/cuda_gpu_executor.cc:975] successful NUMA node read from SysFS had negative value (-1), but there must be at least one NUMA node, so returning NUMA node zero\n",
      "2022-09-21 16:47:45.822771: I tensorflow/stream_executor/cuda/cuda_gpu_executor.cc:975] successful NUMA node read from SysFS had negative value (-1), but there must be at least one NUMA node, so returning NUMA node zero\n",
      "2022-09-21 16:47:45.823084: I tensorflow/stream_executor/cuda/cuda_gpu_executor.cc:975] successful NUMA node read from SysFS had negative value (-1), but there must be at least one NUMA node, so returning NUMA node zero\n",
      "2022-09-21 16:47:45.825380: I tensorflow/core/common_runtime/gpu/gpu_device.cc:1532] Created device /job:localhost/replica:0/task:0/device:GPU:0 with 7120 MB memory:  -> device: 0, name: NVIDIA GeForce RTX 3060, pci bus id: 0000:01:00.0, compute capability: 8.6\n"
     ]
    }
   ],
   "source": [
    "train_dataset = get_dataset(filenames_template=train_filenames[:20], seed=420, batch_size=batch_size)\n",
    "train_steps = (20 * 500_000) // batch_size\n",
    "\n",
    "\n",
    "val_dataset = get_dataset(filenames_template=train_filenames[20:], seed=420, batch_size=batch_size)\n",
    "val_steps = (445_000 + 500_000) // batch_size\n",
    "\n",
    "test_dataset = get_dataset(filenames_template=test_filenames, batch_size=32)"
   ]
  },
  {
   "cell_type": "markdown",
   "id": "5d61da81-b1c9-47b0-a392-9628a6f48607",
   "metadata": {},
   "source": [
    "## Load MC model"
   ]
  },
  {
   "cell_type": "code",
   "execution_count": 6,
   "id": "55623ddc-9ed2-4e7c-abbe-13058a6fb9ce",
   "metadata": {},
   "outputs": [],
   "source": [
    "input_shape = (None, 28)\n",
    "denses = [128, 512, 128]\n",
    "p = 0.1\n",
    "step_size = 10945000 // batch_size\n",
    "\n",
    "def build_mc_model(input_shape, denses, p, step_size):\n",
    "    f = input_layer = tf.keras.Input(shape=(input_shape), name=\"input\")\n",
    "    for n_units in denses:\n",
    "        f = tf.keras.layers.Dense(n_units)(f)\n",
    "        f = tf.keras.layers.ReLU()(f)\n",
    "        f = tf.keras.layers.Dropout(rate=p)(f, training=True)\n",
    "    f = tf.keras.layers.Dense(1)(f)\n",
    "    f = tf.keras.layers.Activation(activation='sigmoid')(f)\n",
    "\n",
    "    mc_model = tf.keras.Model(input_layer, f, name=\"mc_model\")\n",
    "    #mc_model_opt = tfa.optimizers.AdamW(\n",
    "    mc_model_opt = tf.keras.optimizers.Adam(\n",
    "        learning_rate=0.001,\n",
    "        beta_1 = 0.9,\n",
    "        beta_2 = 0.999,\n",
    "        epsilon = 1e-06,\n",
    "        amsgrad = False,\n",
    "    )\n",
    "    # Loss\n",
    "    loss = 'binary_crossentropy'\n",
    "    mc_model.compile(optimizer=mc_model_opt, loss=loss, metrics = ['accuracy',  tf.keras.metrics.Precision(), tf.keras.metrics.Recall()])\n",
    "    return mc_model\n"
   ]
  },
  {
   "cell_type": "code",
   "execution_count": 7,
   "id": "894e3c97-fe4c-4b39-82b8-b7f4f1a1080c",
   "metadata": {},
   "outputs": [],
   "source": [
    "mc_model = build_mc_model(\n",
    "    input_shape = (28,),\n",
    "    denses = [128, 512, 128],\n",
    "    p = 0.2,\n",
    "    step_size = ceil(10945000 / batch_size),\n",
    ")"
   ]
  },
  {
   "cell_type": "code",
   "execution_count": 8,
   "id": "89984396-e5d5-4a98-9fbb-68fbaa167a67",
   "metadata": {},
   "outputs": [],
   "source": [
    "checkpoint_cb = tf.keras.callbacks.ModelCheckpoint(\n",
    "    \"mc_model_higgs/mc_model.h5\", save_best_only=True\n",
    ")\n",
    "\n",
    "early_stopping_cb = tf.keras.callbacks.EarlyStopping(\n",
    "    patience=2, restore_best_weights=True\n",
    ")\n",
    "\n",
    "csv_logger_cb = tf.keras.callbacks.CSVLogger('mc_model_higgs/training.log')"
   ]
  },
  {
   "cell_type": "code",
   "execution_count": 9,
   "id": "eece2765-79f3-4647-b3d9-f9cee998720c",
   "metadata": {},
   "outputs": [
    {
     "name": "stdout",
     "output_type": "stream",
     "text": [
      "Epoch 1/10\n"
     ]
    },
    {
     "name": "stderr",
     "output_type": "stream",
     "text": [
      "2022-09-21 16:47:47.992387: I tensorflow/stream_executor/cuda/cuda_blas.cc:1786] TensorFloat-32 will be used for the matrix multiplication. This will only be logged once.\n"
     ]
    },
    {
     "name": "stdout",
     "output_type": "stream",
     "text": [
      "312500/312500 - 755s - loss: 0.5271 - accuracy: 0.7345 - precision: 0.7452 - recall: 0.7581 - val_loss: 0.5185 - val_accuracy: 0.7402 - val_precision: 0.7575 - val_recall: 0.7496 - 755s/epoch - 2ms/step\n",
      "Epoch 2/10\n",
      "312500/312500 - 736s - loss: 0.5171 - accuracy: 0.7425 - precision: 0.7523 - recall: 0.7666 - val_loss: 0.5183 - val_accuracy: 0.7429 - val_precision: 0.7555 - val_recall: 0.7611 - 736s/epoch - 2ms/step\n",
      "Epoch 3/10\n",
      "312500/312500 - 729s - loss: 0.5148 - accuracy: 0.7448 - precision: 0.7537 - recall: 0.7701 - val_loss: 0.5169 - val_accuracy: 0.7455 - val_precision: 0.7595 - val_recall: 0.7606 - 729s/epoch - 2ms/step\n",
      "Epoch 4/10\n",
      "312500/312500 - 736s - loss: 0.5143 - accuracy: 0.7457 - precision: 0.7537 - recall: 0.7726 - val_loss: 0.5149 - val_accuracy: 0.7445 - val_precision: 0.7623 - val_recall: 0.7525 - 736s/epoch - 2ms/step\n",
      "Epoch 5/10\n",
      "312500/312500 - 759s - loss: 0.5141 - accuracy: 0.7461 - precision: 0.7529 - recall: 0.7753 - val_loss: 0.5149 - val_accuracy: 0.7450 - val_precision: 0.7583 - val_recall: 0.7615 - 759s/epoch - 2ms/step\n",
      "Epoch 6/10\n",
      "312500/312500 - 746s - loss: 0.5138 - accuracy: 0.7463 - precision: 0.7522 - recall: 0.7774 - val_loss: 0.5153 - val_accuracy: 0.7459 - val_precision: 0.7600 - val_recall: 0.7608 - 746s/epoch - 2ms/step\n"
     ]
    }
   ],
   "source": [
    "history = mc_model.fit(\n",
    "    train_dataset.repeat(),\n",
    "    epochs=10,\n",
    "    validation_data=val_dataset.repeat(),\n",
    "    steps_per_epoch=train_steps,\n",
    "    validation_steps=val_steps,\n",
    "    callbacks=[\n",
    "        checkpoint_cb,\n",
    "        early_stopping_cb,\n",
    "        csv_logger_cb,\n",
    "    ],\n",
    "    verbose=2,\n",
    ")"
   ]
  },
  {
   "cell_type": "code",
   "execution_count": 10,
   "id": "d2ebcff9-4b0b-4f83-bcff-22462a9cc2cb",
   "metadata": {},
   "outputs": [
    {
     "data": {
      "image/png": "[encoded data removed]",
      "text/plain": [
       "<Figure size 432x288 with 1 Axes>"
      ]
     },
     "metadata": {
      "needs_background": "light"
     },
     "output_type": "display_data"
    }
   ],
   "source": [
    "plt.plot(history.history['loss'])\n",
    "plt.plot(history.history['val_loss'])\n",
    "plt.title('model loss')\n",
    "plt.ylabel('loss')\n",
    "plt.xlabel('epoch')\n",
    "plt.legend(['train', 'val'], loc='upper left')\n",
    "plt.savefig('mc_model_higgs/loss.png')\n",
    "plt.show()"
   ]
  },
  {
   "cell_type": "code",
   "execution_count": 11,
   "id": "5ea57bbf-84f9-4eeb-b6e6-df8f2ebace1e",
   "metadata": {},
   "outputs": [
    {
     "data": {
      "image/png": "[encoded data removed]",
      "text/plain": [
       "<Figure size 432x288 with 1 Axes>"
      ]
     },
     "metadata": {
      "needs_background": "light"
     },
     "output_type": "display_data"
    }
   ],
   "source": [
    "plt.plot(history.history['accuracy'])\n",
    "plt.plot(history.history['val_accuracy'])\n",
    "plt.title('model accuracy')\n",
    "plt.ylabel('accuracy')\n",
    "plt.xlabel('epoch')\n",
    "plt.legend(['train', 'val'], loc='upper left')\n",
    "plt.savefig('mc_model_higgs/accuracy.png')\n",
    "plt.show()"
   ]
  },
  {
   "cell_type": "markdown",
   "id": "beffde2a-76e4-4674-b77c-8910fd27fbbe",
   "metadata": {},
   "source": [
    "## Performance plots"
   ]
  },
  {
   "cell_type": "code",
   "execution_count": 12,
   "id": "f25ffc0e-9e08-4e96-bef0-d669d010bbb9",
   "metadata": {},
   "outputs": [
    {
     "name": "stdout",
     "output_type": "stream",
     "text": [
      "1719/1719 [==============================] - 4s 2ms/step - loss: 0.5103 - accuracy: 0.7465 - precision: 0.7641 - recall: 0.7515\n"
     ]
    }
   ],
   "source": [
    "_, acc_s, precision_s, recall_s = mc_model.evaluate(test_dataset)"
   ]
  },
  {
   "cell_type": "code",
   "execution_count": 13,
   "id": "d39b9f8c-93cf-4e4a-8c52-7f8f7b5a0edb",
   "metadata": {},
   "outputs": [
    {
     "name": "stderr",
     "output_type": "stream",
     "text": [
      "1719it [33:27,  1.17s/it]                                                                                                            \n"
     ]
    }
   ],
   "source": [
    "T = 500\n",
    "X = []\n",
    "y_mc_pred = []\n",
    "y_pred = []\n",
    "y_pred_cls = []\n",
    "y_true = []\n",
    "for i, (X_i, y_i) in enumerate(tqdm.tqdm(test_dataset, total=1718)):\n",
    "    mc_predictions_i = np.array([mc_model(X_i).numpy() for _ in range(T)])#.reshape((-1,))\n",
    "    y_mc_pred.append(mc_predictions_i)\n",
    "    y_pred_i = predictive_distribution(mc_predictions_i)\n",
    "    y_pred.append(y_pred_i)\n",
    "    y_pred_cls.append((y_pred_i > 0.5).astype(float))\n",
    "    y_true.append(y_i.numpy())\n",
    "    X.append(X_i)\n",
    "    #if i == 50:\n",
    "    #   break\n",
    "X = np.concatenate(X)\n",
    "y_mc_pred = np.concatenate(y_mc_pred, axis=1)\n",
    "y_pred_cls = np.squeeze(np.concatenate(y_pred_cls))\n",
    "y_pred = np.squeeze(np.concatenate(y_pred))\n",
    "y_true = np.concatenate(y_true)"
   ]
  },
  {
   "cell_type": "markdown",
   "id": "1ab4a4e9-dd29-429d-aac9-15caf3d62bd3",
   "metadata": {},
   "source": [
    "### Prediction Label distribution."
   ]
  },
  {
   "cell_type": "code",
   "execution_count": 14,
   "id": "e9d3ab76-1bb3-4116-920f-513c0ff8507e",
   "metadata": {},
   "outputs": [],
   "source": [
    "labels = [\n",
    "    'Background',\n",
    "    'Signal',\n",
    "]"
   ]
  },
  {
   "cell_type": "code",
   "execution_count": 15,
   "id": "cfc5e94d-6d07-4da0-a037-8d8b03346db2",
   "metadata": {},
   "outputs": [
    {
     "data": {
      "image/png": "[encoded data removed]",
      "text/plain": [
       "<Figure size 576x360 with 1 Axes>"
      ]
     },
     "metadata": {
      "needs_background": "light"
     },
     "output_type": "display_data"
    }
   ],
   "source": [
    "plt.figure(figsize=(8, 5))\n",
    "plt.title('Predictions Distribution')\n",
    "plt.axvline(x=0.5, c='k', ls='--')\n",
    "for c in (0, 1):\n",
    "    plt.hist(y_pred[y_true == c], label=f'GT: {labels[c]}', bins=100, alpha=0.65)\n",
    "    plt.xlim([0,1])\n",
    "plt.xlabel('$p(y|x)$')\n",
    "plt.legend()\n",
    "plt.savefig('mc_model_higgs/distribution.png')\n",
    "plt.show()"
   ]
  },
  {
   "cell_type": "markdown",
   "id": "417eda9b-b819-41b1-b544-38f3c88c1f85",
   "metadata": {},
   "source": [
    "### Classification Metrics"
   ]
  },
  {
   "cell_type": "code",
   "execution_count": 16,
   "id": "cbebd3ce-b665-4873-87f9-edf78ed63240",
   "metadata": {},
   "outputs": [
    {
     "name": "stdout",
     "output_type": "stream",
     "text": [
      "Metrics for a single Fordward pass\n",
      "Accuracy: 0.746\n",
      "Recall: 0.751\n",
      "Precision: 0.764\n"
     ]
    }
   ],
   "source": [
    "msg_1 = f'''Metrics for a single Fordward pass\n",
    "Accuracy: {acc_s:.3f}\n",
    "Recall: {recall_s:.3f}\n",
    "Precision: {precision_s:.3f}'''\n",
    "print(msg_1)"
   ]
  },
  {
   "cell_type": "code",
   "execution_count": 17,
   "id": "af366c88-200f-4dbc-8e91-5ee5fddf7506",
   "metadata": {},
   "outputs": [
    {
     "name": "stdout",
     "output_type": "stream",
     "text": [
      "Metrics for predictive distribution\n",
      "Accuracy: 0.760\n",
      "Recall: 0.763\n",
      "Precision: 0.778\n"
     ]
    }
   ],
   "source": [
    "from sklearn.metrics import accuracy_score, recall_score, precision_score\n",
    "msg_2 = f'''Metrics for predictive distribution\n",
    "Accuracy: {accuracy_score(y_true, y_pred_cls):.3f}\n",
    "Recall: {recall_score(y_true, y_pred_cls):.3f}\n",
    "Precision: {precision_score(y_true, y_pred_cls):.3f}'''\n",
    "print(msg_2)"
   ]
  },
  {
   "cell_type": "code",
   "execution_count": 18,
   "id": "12c1ea65-347f-4e1a-89a2-37d4d0f11be0",
   "metadata": {},
   "outputs": [
    {
     "name": "stdout",
     "output_type": "stream",
     "text": [
      "              precision    recall  f1-score   support\n",
      "\n",
      "  Background       0.74      0.76      0.75     25980\n",
      "      Signal       0.78      0.76      0.77     29020\n",
      "\n",
      "    accuracy                           0.76     55000\n",
      "   macro avg       0.76      0.76      0.76     55000\n",
      "weighted avg       0.76      0.76      0.76     55000\n",
      "\n"
     ]
    }
   ],
   "source": [
    "from sklearn.metrics import classification_report\n",
    "\n",
    "msg_3 = classification_report(y_true, y_pred_cls, target_names=labels)\n",
    "print(msg_3)"
   ]
  },
  {
   "cell_type": "code",
   "execution_count": 19,
   "id": "fc54389b-a032-468a-9dbb-0a1df8887fab",
   "metadata": {},
   "outputs": [],
   "source": [
    "with open('mc_model_higgs/report.txt', 'w') as f:\n",
    "    f.write(msg_1 + '\\n\\n')\n",
    "    f.write(msg_2 + '\\n\\n')\n",
    "    f.write(msg_3)"
   ]
  },
  {
   "cell_type": "code",
   "execution_count": 20,
   "id": "4f0dc73e-4dc6-4f9d-bd23-e97f7508ba88",
   "metadata": {},
   "outputs": [
    {
     "data": {
      "image/png": "[encoded data removed]",
      "text/plain": [
       "<Figure size 432x288 with 1 Axes>"
      ]
     },
     "metadata": {
      "needs_background": "light"
     },
     "output_type": "display_data"
    }
   ],
   "source": [
    "from sklearn.metrics import roc_auc_score, roc_curve, auc\n",
    "\n",
    "fpr, tpr, _ = roc_curve(y_true, y_pred)\n",
    "roc_auc = auc(fpr, tpr)\n",
    "\n",
    "plt.figure()\n",
    "lw = 2\n",
    "plt.plot(\n",
    "    fpr,\n",
    "    tpr,\n",
    "    color=\"darkorange\",\n",
    "    lw=lw,\n",
    "    label=\"ROC curve (area = %0.2f)\" % roc_auc,\n",
    ")\n",
    "plt.plot([0, 1], [0, 1], color=\"navy\", lw=lw, linestyle=\"--\")\n",
    "plt.xlim([0.0, 1.0])\n",
    "plt.ylim([0.0, 1.05])\n",
    "plt.xlabel(\"False Positive Rate\")\n",
    "plt.ylabel(\"True Positive Rate\")\n",
    "plt.title(\"Receiver operating characteristic example\")\n",
    "plt.legend(loc=\"lower right\")\n",
    "plt.savefig('mc_model_higgs/ROC.png')\n",
    "plt.show()"
   ]
  },
  {
   "cell_type": "markdown",
   "id": "2a97f66e-c456-4975-929c-098f48b7daa4",
   "metadata": {},
   "source": [
    "## Uncertainty"
   ]
  },
  {
   "cell_type": "code",
   "execution_count": 21,
   "id": "876dd99d-8eaf-40f1-81d9-b2c4350f369b",
   "metadata": {},
   "outputs": [],
   "source": [
    "pred_entropy = predictive_entropy(y_pred.reshape((-1, 1)), normalize=True)\n",
    "mut_information = mutual_information(y_pred.reshape((-1, 1)), y_mc_pred, normalize=True)"
   ]
  },
  {
   "cell_type": "code",
   "execution_count": 22,
   "id": "5f77be66-e0a2-4d63-9538-139f4e11394f",
   "metadata": {},
   "outputs": [
    {
     "data": {
      "image/png": "[encoded data removed]",
      "text/plain": [
       "<Figure size 576x360 with 1 Axes>"
      ]
     },
     "metadata": {
      "needs_background": "light"
     },
     "output_type": "display_data"
    }
   ],
   "source": [
    "plt.figure(figsize=(8, 5))\n",
    "plt.title('Predictive Entropy Distribution')\n",
    "for c in (0., 1.):\n",
    "    plt.hist(pred_entropy[y_true == c], label=f'True Class {c}', bins=100, alpha=0.7)\n",
    "    #plt.xlim([0,1])\n",
    "plt.legend()\n",
    "plt.show()"
   ]
  },
  {
   "cell_type": "code",
   "execution_count": 23,
   "id": "669098d5-4297-44a7-9dfe-e96963ed98a9",
   "metadata": {},
   "outputs": [
    {
     "data": {
      "image/png": "[encoded data removed]",
      "text/plain": [
       "<Figure size 576x360 with 1 Axes>"
      ]
     },
     "metadata": {
      "needs_background": "light"
     },
     "output_type": "display_data"
    }
   ],
   "source": [
    "plt.figure(figsize=(8, 5))\n",
    "plt.title('Mutual Information Distribution')\n",
    "for c in (0., 1.):\n",
    "    plt.hist(mut_information[y_true == c], label=f'True Class {c}', bins=100, alpha=0.7)\n",
    "    #plt.xlim([0,1])\n",
    "plt.legend()\n",
    "plt.show()"
   ]
  },
  {
   "cell_type": "markdown",
   "id": "3148f9fb-63b0-4308-8b2b-5ea05daae9fe",
   "metadata": {},
   "source": [
    "## Save results"
   ]
  },
  {
   "cell_type": "code",
   "execution_count": 24,
   "id": "12874016-38ad-44ac-b9c9-262f4465412b",
   "metadata": {},
   "outputs": [],
   "source": [
    "X_df = pd.DataFrame(X, columns=features_names)\n",
    "\n",
    "y_df = pd.DataFrame({\n",
    "    'y_true': y_true,\n",
    "    'y_pred': y_pred,\n",
    "    'y_pred_cls': y_pred_cls,\n",
    "    'predictive_entropy': pred_entropy,\n",
    "    'mutual_information': mut_information,\n",
    "})"
   ]
  },
  {
   "cell_type": "code",
   "execution_count": 25,
   "id": "5c757077-beb8-4ec4-9830-2c50b812e42d",
   "metadata": {},
   "outputs": [],
   "source": [
    "X_df.to_csv('mc_model_higgs/X.csv', index=False)\n",
    "y_df.to_csv('mc_model_higgs/y.csv', index=False)\n",
    "np.save('mc_model_higgs/y_mc_pred', y_mc_pred)"
   ]
  },
  {
   "cell_type": "markdown",
   "id": "8da7b16d-7b1a-4956-aacf-ca4bc2b56ca4",
   "metadata": {},
   "source": [
    "## Sample"
   ]
  },
  {
   "cell_type": "code",
   "execution_count": 26,
   "id": "a1cf4f9b-ce17-4389-a52a-37fdbd91725f",
   "metadata": {},
   "outputs": [],
   "source": [
    "#idx = pred_entropy.argsort()[-1]\n",
    "idx = mut_information.argsort()[-1]"
   ]
  },
  {
   "cell_type": "code",
   "execution_count": 27,
   "id": "e4f8dc79-1519-4ea0-950e-a3531d24d2f5",
   "metadata": {},
   "outputs": [
    {
     "data": {
      "text/plain": [
       "0.620653"
      ]
     },
     "execution_count": 27,
     "metadata": {},
     "output_type": "execute_result"
    }
   ],
   "source": [
    "pred_entropy[idx]"
   ]
  },
  {
   "cell_type": "code",
   "execution_count": 28,
   "id": "f4fc6f06-2fb3-419e-87ee-b20b662d4f17",
   "metadata": {},
   "outputs": [
    {
     "data": {
      "text/plain": [
       "0.42347008"
      ]
     },
     "execution_count": 28,
     "metadata": {},
     "output_type": "execute_result"
    }
   ],
   "source": [
    "mut_information[idx]"
   ]
  },
  {
   "cell_type": "code",
   "execution_count": 29,
   "id": "607743a8-e5a2-4201-aea6-7b9e2ea095c3",
   "metadata": {},
   "outputs": [
    {
     "data": {
      "text/plain": [
       "0.84563655"
      ]
     },
     "execution_count": 29,
     "metadata": {},
     "output_type": "execute_result"
    }
   ],
   "source": [
    "y_pred[idx]"
   ]
  },
  {
   "cell_type": "code",
   "execution_count": 30,
   "id": "a24ca079-d3d4-4872-9d69-f101433f4cee",
   "metadata": {},
   "outputs": [
    {
     "data": {
      "text/plain": [
       "1.0"
      ]
     },
     "execution_count": 30,
     "metadata": {},
     "output_type": "execute_result"
    }
   ],
   "source": [
    "y_true[idx]"
   ]
  },
  {
   "cell_type": "code",
   "execution_count": 31,
   "id": "d1e9929a-49e3-434c-a725-9f9ae1b30697",
   "metadata": {},
   "outputs": [
    {
     "data": {
      "image/png": "[encoded data removed]",
      "text/plain": [
       "<Figure size 432x288 with 1 Axes>"
      ]
     },
     "metadata": {
      "needs_background": "light"
     },
     "output_type": "display_data"
    }
   ],
   "source": [
    "plt.hist(y_mc_pred[:, idx], bins=50);\n",
    "#plt.xlim([0.,1.])"
   ]
  },
  {
   "cell_type": "code",
   "execution_count": null,
   "id": "a569a924-3a95-46aa-b64f-1f2b0b5b81fb",
   "metadata": {},
   "outputs": [],
   "source": []
  }
 ],
 "metadata": {
  "kernelspec": {
   "display_name": "Python 3 (ipykernel)",
   "language": "python",
   "name": "python3"
  },
  "language_info": {
   "codemirror_mode": {
    "name": "ipython",
    "version": 3
   },
   "file_extension": ".py",
   "mimetype": "text/x-python",
   "name": "python",
   "nbconvert_exporter": "python",
   "pygments_lexer": "ipython3",
   "version": "3.9.12"
  },
  "vscode": {
   "interpreter": {
    "hash": "3aecf5715e11a78c2618bdb2316cc3cb85e68efb4ce3d948bdd007a3315b4a57"
   }
  }
 },
 "nbformat": 4,
 "nbformat_minor": 5
}
